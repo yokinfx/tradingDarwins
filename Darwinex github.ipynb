{
 "cells": [
  {
   "cell_type": "markdown",
   "metadata": {},
   "source": [
    "Download all Darwins and store them in a list"
   ]
  },
  {
   "cell_type": "code",
   "execution_count": null,
   "metadata": {},
   "outputs": [],
   "source": [
    "import requests\n",
    "import time\n",
    "\n",
    "index = 0\n",
    "token = '' #My Darwinex API token\n",
    "url = 'https://api.darwinex.com/darwininfo/1.5/products?page=' + str(index)\n",
    "headers = {'Authorization': 'Bearer ' + str(token)}\n",
    "r = requests.get(url, headers=headers)\n",
    "is_last = r.json()['last']\n",
    "s = r.json()['content']\n",
    "index = index + 1\n",
    "while is_last != True:\n",
    "    url = 'https://api.darwinex.com/darwininfo/1.5/products?page=' + str(index)\n",
    "    r = requests.get(url, headers=headers)\n",
    "    is_last = r.json()['last']\n",
    "    s.extend(r.json()['content'])\n",
    "    print('Indice: {}',index)\n",
    "    if index % 5 == 0:\n",
    "        print('Durmiendo 40 segundos...')\n",
    "        time.sleep(40)\n",
    "    index = index + 1"
   ]
  }
 ],
 "metadata": {
  "kernelspec": {
   "display_name": "Python 3",
   "language": "python",
   "name": "python3"
  },
  "language_info": {
   "codemirror_mode": {
    "name": "ipython",
    "version": 3
   },
   "file_extension": ".py",
   "mimetype": "text/x-python",
   "name": "python",
   "nbconvert_exporter": "python",
   "pygments_lexer": "ipython3",
   "version": "3.7.1"
  }
 },
 "nbformat": 4,
 "nbformat_minor": 2
}
