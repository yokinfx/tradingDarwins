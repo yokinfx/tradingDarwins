{
 "cells": [
  {
   "cell_type": "markdown",
   "metadata": {},
   "source": [
    "# IMPORTS"
   ]
  },
  {
   "cell_type": "code",
   "execution_count": null,
   "metadata": {},
   "outputs": [],
   "source": [
    "import requests        # para llamadas http/https\n",
    "import time            # generalista para tratar tiempos\n",
    "import inspect, sys    # para obtener el nombre de la funcion desde dentro de la funcion\n",
    "import pickle          # para guardar objetos a disco en binario\n",
    "import matplotlib.pyplot as plt  # para graficar\n",
    "import os              # para hacer listados de ficheros"
   ]
  },
  {
   "cell_type": "markdown",
   "metadata": {},
   "source": [
    "# TOKEN"
   ]
  },
  {
   "cell_type": "code",
   "execution_count": null,
   "metadata": {},
   "outputs": [],
   "source": [
    "token = '' # Mi API token de darwinex"
   ]
  },
  {
   "cell_type": "markdown",
   "metadata": {},
   "source": [
    "# FUNCIONES"
   ]
  },
  {
   "cell_type": "code",
   "execution_count": null,
   "metadata": {},
   "outputs": [],
   "source": [
    "def save_file(file_prefix):\n",
    "    fichero = file_prefix + datetime.now().strftime(\"%Y-%m-%dT%H.%M.%S\") + '.bin'\n",
    "    with open(fichero, 'wb') as filehandle:\n",
    "        pickle.dump(s, filehandle)\n",
    "    return(fichero)"
   ]
  },
  {
   "cell_type": "code",
   "execution_count": null,
   "metadata": {},
   "outputs": [],
   "source": [
    "def load_file(file_prefix):\n",
    "    path = os.getcwd()\n",
    "    files = []\n",
    "    for i in os.listdir(path):\n",
    "        if os.path.isfile(os.path.join(path,i)) and file_prefix in i:\n",
    "            files.append(i)   \n",
    "    if len(files[-1:]) > 0:\n",
    "        with open((files[-1]), 'rb') as filehandle:\n",
    "            k = pickle.load(filehandle)\n",
    "        return k,path+'/'+files[-1]\n",
    "    else: \n",
    "        return -1,-1"
   ]
  },
  {
   "cell_type": "code",
   "execution_count": null,
   "metadata": {},
   "outputs": [],
   "source": [
    "def get_darwins_info(force_load = False):\n",
    "    index = 0\n",
    "    this_fun = str(sys._getframe().f_code.co_name)\n",
    "    \n",
    "    if force_load == False:\n",
    "        ss,f = load_file(this_fun)\n",
    "        if ss != -1:\n",
    "            print ('Cargada info de Darwins de ',f)\n",
    "            return(ss)\n",
    "        \n",
    "    url = 'https://api.darwinex.com/darwininfo/1.5/products?page=' + str(index)\n",
    "    headers = {'Authorization': 'Bearer ' + str(token)}\n",
    "    r = requests.get(url, headers=headers)\n",
    "    is_last = r.json()['last']\n",
    "    s = r.json()['content']\n",
    "    index = index + 1\n",
    "    print('(',index,') Procesando darwins ',r.json()['content'][0]['productName'],' a ', r.json()['content'][49]['productName'])\n",
    "    while is_last != True:\n",
    "        url = 'https://api.darwinex.com/darwininfo/1.5/products?page=' + str(index)\n",
    "        r = requests.get(url, headers=headers)\n",
    "        is_last = r.json()['last']\n",
    "        s.extend(r.json()['content'])\n",
    "        print('(',index,') Procesando darwins ',r.json()['content'][0]['productName'],' a ', r.json()['content'][len(r.json()['content'])-1]['productName'])\n",
    "        if index % 10 == 0:\n",
    "            print('Durmiendo 60 segundos...')\n",
    "            time.sleep(60)\n",
    "        index = index + 1\n",
    "    print('(',save_file(this_fun),') Descarga de Darwins finalizada')\n",
    "    return(s)\n"
   ]
  },
  {
   "cell_type": "code",
   "execution_count": null,
   "metadata": {
    "scrolled": false
   },
   "outputs": [],
   "source": [
    "def badge_id(badge):\n",
    "    switcher = {\n",
    "        0: \"Ex score\",\n",
    "        1: \"Mc score\",\n",
    "        2: \"Rs score\",\n",
    "        3: \"Ra score\",\n",
    "        4: \"Os score\",\n",
    "        5: \"Cs score\",\n",
    "        6: \"R+ score\",\n",
    "        7: \"R- score\",\n",
    "        8: \"Dc score\",\n",
    "        9: \"La score\",\n",
    "        10: \"Pf score\",\n",
    "        11: \"Cp score\",\n",
    "        12: \"D-Score\",\n",
    "        \"Ex score\" : 0,\n",
    "        \"Mc score\" : 1,\n",
    "        \"Rs score\" : 2,\n",
    "        \"Ra score\" : 3,\n",
    "        \"Os score\" : 4,\n",
    "        \"Cs score\" : 5,\n",
    "        \"R+ score\" : 6,\n",
    "        \"R- score\" : 7,\n",
    "        \"Dc score\" : 8,\n",
    "        \"La score\" : 9,\n",
    "        \"Pf score\" : 10,\n",
    "        \"Cp score\" : 11,\n",
    "        \"D-Score\" : 12\n",
    "    }\n",
    "    return (switcher.get(badge, \"Invalid badge\"))"
   ]
  },
  {
   "cell_type": "code",
   "execution_count": null,
   "metadata": {},
   "outputs": [],
   "source": [
    "def plot_darwin(darwin, badge = 'D-Score'):\n",
    "    dates = [item[0] for item in darwin['badges']]\n",
    "    dates[:] = [time.strftime('%Y-%m-%d',time.gmtime(x/ 1000.))  for x in dates]\n",
    "    dates[:] = [datetime.strptime(x,'%Y-%m-%d')  for x in dates]\n",
    "    dscores= []\n",
    "    for i in range(len(darwin['badges'])):\n",
    "        dscores.append(darwin['badges'][i][2][badge_id(badge)])\n",
    "    plt.plot(dates,dscores) \n",
    "    plt.xticks(rotation=45)\n",
    "    plt.show()"
   ]
  },
  {
   "cell_type": "code",
   "execution_count": null,
   "metadata": {},
   "outputs": [],
   "source": [
    "def get_badges(darwins, plot_on_the_fly = False, force_load = False):\n",
    "    headers = {'Authorization': 'Bearer ' + str(token)}\n",
    "    this_fun = str(sys._getframe().f_code.co_name)\n",
    "    \n",
    "    if force_load == False:\n",
    "        s,f = load_file(this_fun)\n",
    "        if s != -1:\n",
    "            print ('Cargada info de Badges de Darwins de ',f)\n",
    "            return(s)\n",
    "        \n",
    "    i = 1\n",
    "    for darwin in darwins:\n",
    "        print('(',i,') Darwin:',darwin['shortName'])\n",
    "        url = 'https://api.darwinex.com/darwininfo/1.5/products/' + darwin['productName'] + '/history/badges'\n",
    "        r = requests.get(url, headers=headers)\n",
    "        darwins[i-1].update({'badges' : r.json()})\n",
    "        if plot_on_the_fly:\n",
    "            plot_darwin(darwin)\n",
    "        if i % 10 == 0:\n",
    "            print('Durmiendo 60 segundos...')\n",
    "            time.sleep(60)\n",
    "        i = i+1\n",
    "    print('(',save_file(this_fun),') Descarga de Darwin Badges finalizada')\n",
    "    return(darwins)"
   ]
  }
 ],
 "metadata": {
  "kernelspec": {
   "display_name": "Python 3",
   "language": "python",
   "name": "python3"
  },
  "language_info": {
   "codemirror_mode": {
    "name": "ipython",
    "version": 3
   },
   "file_extension": ".py",
   "mimetype": "text/x-python",
   "name": "python",
   "nbconvert_exporter": "python",
   "pygments_lexer": "ipython3",
   "version": "3.7.1"
  }
 },
 "nbformat": 4,
 "nbformat_minor": 2
}
