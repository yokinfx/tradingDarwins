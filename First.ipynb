{
 "cells": [
  {
   "cell_type": "markdown",
   "metadata": {},
   "source": [
    "# Funcion get_darwins_info\n",
    "No recibe parametros\n",
    "Es necesario rellenar la variable 'token' con la API token de Darwinex, que se consigue desde la plataforma de inversor con un simple click.\n",
    "Esta función debe hacer múltiples llamadas porque las respuestas de la API dan por defecto la info de los darwins en paquetes de 50. Asi que de ahi viene el sleep, tanto en esta función como en tantas otras que recopilen información que requiera hacer varias llamadas a la API.\n",
    "La función devuelve una variable tipo lista\n"
   ]
  },
  {
   "cell_type": "code",
   "execution_count": null,
   "metadata": {
    "collapsed": true
   },
   "outputs": [],
   "source": [
    "import requests\n",
    "import time\n",
    "\n",
    "token = ''\n",
    "\n",
    "def get_darwins_info():\n",
    "    index = 0\n",
    "    url = 'https://api.darwinex.com/darwininfo/1.5/products?page=' + str(index)\n",
    "    headers = {'Authorization': 'Bearer ' + str(token)}\n",
    "    r = requests.get(url, headers=headers)\n",
    "    is_last = r.json()['last']\n",
    "    s = r.json()['content']\n",
    "    index = index + 1\n",
    "    print('(',index,') Procesando darwins ',r.json()['content'][0]['productName'],' a ', r.json()['content'][49]['productName'])\n",
    "\n",
    "    while is_last != True:\n",
    "        url = 'https://api.darwinex.com/darwininfo/1.5/products?page=' + str(index)\n",
    "        r = requests.get(url, headers=headers)\n",
    "        is_last = r.json()['last']\n",
    "        s.extend(r.json()['content'])\n",
    "        print('(',index,') Procesando darwins ',r.json()['content'][0]['productName'],' a ', r.json()['content'][len(r.json()['content'])-1]['productName'])\n",
    "        if index % 10 == 0:\n",
    "            print('Durmiendo 60 segundos...')\n",
    "            time.sleep(60)\n",
    "        index = index + 1\n",
    "    print('Descarga de Darwins finalizada')\n",
    "    return(s)\n"
   ]
  },
  {
   "cell_type": "code",
   "execution_count": null,
   "metadata": {},
   "outputs": [],
   "source": [
    "darwins = get_darwins_info()"
   ]
  },
  {
   "cell_type": "code",
   "execution_count": null,
   "metadata": {},
   "outputs": [],
   "source": [
    "def get_badges(darwins):\n",
    "    headers = {'Authorization': 'Bearer ' + str(token)}\n",
    "\n",
    "    i = 1\n",
    "    for darwin in darwins:\n",
    "        print('(',i,') Darwin:',darwin['shortName'])\n",
    "        url = 'https://api.darwinex.com/darwininfo/1.5/products/' + darwin['productName'] + '/history/badges'\n",
    "        r = requests.get(url, headers=headers)\n",
    "        darwins[i-1].update({'badges' : r.json()})\n",
    "        if i % 10 == 0:\n",
    "            print('Durmiendo 60 segundos...')\n",
    "            time.sleep(60)\n",
    "        i = i+1\n",
    "    return(darwins)"
   ]
  }
 ],
 "metadata": {
  "kernelspec": {
   "display_name": "Python 3",
   "language": "python",
   "name": "python3"
  },
  "language_info": {
   "codemirror_mode": {
    "name": "ipython",
    "version": 3
   },
   "file_extension": ".py",
   "mimetype": "text/x-python",
   "name": "python",
   "nbconvert_exporter": "python",
   "pygments_lexer": "ipython3",
   "version": "3.6.2"
  }
 },
 "nbformat": 4,
 "nbformat_minor": 2
}
